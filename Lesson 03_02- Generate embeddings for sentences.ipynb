{
 "cells": [
  {
   "cell_type": "markdown",
   "id": "caa8cd98",
   "metadata": {},
   "source": [
    "# OpenAI API: Embeddings"
   ]
  },
  {
   "cell_type": "markdown",
   "id": "b126d991",
   "metadata": {},
   "source": [
    "### Install the necessary libraries. "
   ]
  },
  {
   "cell_type": "code",
   "execution_count": null,
   "id": "cbb7c175",
   "metadata": {},
   "outputs": [],
   "source": [
    "pip install openai"
   ]
  },
  {
   "cell_type": "code",
   "execution_count": null,
   "id": "bc699e7c",
   "metadata": {},
   "outputs": [],
   "source": [
    "pip install openai[datalib]"
   ]
  },
  {
   "cell_type": "code",
   "execution_count": null,
   "id": "c1615b50",
   "metadata": {},
   "outputs": [],
   "source": [
    "pip install urllib3==1.26.6 "
   ]
  },
  {
   "cell_type": "code",
   "execution_count": null,
   "id": "646f69d3",
   "metadata": {},
   "outputs": [],
   "source": [
    "pip install python-dotenv"
   ]
  },
  {
   "cell_type": "markdown",
   "id": "ee48e61b",
   "metadata": {},
   "source": [
    "### Import the libraries and environment file to gain access to the Open API Key\n",
    "#### The key can be generated here: https://platform.openai.com/account/api-keys"
   ]
  },
  {
   "cell_type": "code",
   "execution_count": 27,
   "id": "70841de5",
   "metadata": {},
   "outputs": [],
   "source": [
    "import os\n",
    "from openai import OpenAI\n",
    "\n",
    "from dotenv import load_dotenv, find_dotenv\n",
    "_ = load_dotenv(find_dotenv()) # read local .env file"
   ]
  },
  {
   "cell_type": "markdown",
   "id": "e5387008",
   "metadata": {},
   "source": [
    "### Authenticate to the API using the API Key\n",
    "#### Pull from environment variables or use api_key = (\"your_key_here\") to hardcode the key"
   ]
  },
  {
   "cell_type": "code",
   "execution_count": 28,
   "id": "7cf566e0",
   "metadata": {},
   "outputs": [],
   "source": [
    "client = OpenAI(\n",
    "  api_key=os.environ['OPENAI_API_KEY']  \n",
    ")"
   ]
  },
  {
   "cell_type": "markdown",
   "id": "1ef4193c",
   "metadata": {},
   "source": [
    "#### Helper functions"
   ]
  },
  {
   "cell_type": "code",
   "execution_count": 29,
   "id": "8c7a8f50",
   "metadata": {},
   "outputs": [],
   "source": [
    "def get_embeddings(sentences, model):\n",
    "    try:\n",
    "        response = client.embeddings.create(\n",
    "            input= sentences,\n",
    "            model= model\n",
    "        )\n",
    "        \n",
    "        return response\n",
    "    except openai.APIError as e:\n",
    "        print(e.http_status)\n",
    "        print(e.error)\n",
    "        return e.error"
   ]
  },
  {
   "cell_type": "code",
   "execution_count": 30,
   "id": "2dba4ee4",
   "metadata": {},
   "outputs": [],
   "source": [
    "import numpy as np\n",
    "from numpy.linalg import norm\n",
    "\n",
    "# compute cosine similarity\n",
    "def compute_cosine_similarity(embeddings1, embeddings2):\n",
    "    return np.dot(embeddings1,embeddings2)/(norm(embeddings1)*norm(embeddings2)) "
   ]
  },
  {
   "cell_type": "markdown",
   "id": "522e65fc",
   "metadata": {},
   "source": [
    "### Determine textual entailment for similar sentences"
   ]
  },
  {
   "cell_type": "code",
   "execution_count": 31,
   "id": "ddd6113f",
   "metadata": {},
   "outputs": [],
   "source": [
    "text_premise = '''\n",
    "                The astronaut completed her spacewalk outside \n",
    "                the International Space Station.\n",
    "               '''\n",
    "text_hypothesis = \"The spacewalk occurred in space.\"\n",
    "\n",
    "sentences = [text_premise, text_hypothesis]\n",
    "\n",
    "response = get_embeddings(sentences,\"text-embedding-ada-002\")"
   ]
  },
  {
   "cell_type": "markdown",
   "id": "e27a64fd",
   "metadata": {},
   "source": [
    "### Compare the vectors \n",
    "\n",
    "#### Vectors need to be the same length for the comparison"
   ]
  },
  {
   "cell_type": "code",
   "execution_count": 32,
   "id": "4db54224",
   "metadata": {},
   "outputs": [
    {
     "data": {
      "text/plain": [
       "1536"
      ]
     },
     "execution_count": 32,
     "metadata": {},
     "output_type": "execute_result"
    }
   ],
   "source": [
    "len(response.data[0].embedding)"
   ]
  },
  {
   "cell_type": "code",
   "execution_count": 33,
   "id": "bc5a49ae",
   "metadata": {},
   "outputs": [
    {
     "data": {
      "text/plain": [
       "1536"
      ]
     },
     "execution_count": 33,
     "metadata": {},
     "output_type": "execute_result"
    }
   ],
   "source": [
    "len(response.data[1].embedding)"
   ]
  },
  {
   "cell_type": "markdown",
   "id": "666a4a35",
   "metadata": {},
   "source": [
    "#### Cosine similarity is a measure of similarity between two non-zero vectors. The value can be between 0 and 1; the closer the value is to 1, the more similar the vectors are. "
   ]
  },
  {
   "cell_type": "code",
   "execution_count": 34,
   "id": "db5a6aae",
   "metadata": {},
   "outputs": [
    {
     "name": "stdout",
     "output_type": "stream",
     "text": [
      "Cosine Similarity: 0.9002355446204217\n"
     ]
    }
   ],
   "source": [
    "cosine = compute_cosine_similarity(response.data[0].embedding, response.data[1].embedding)\n",
    "print(\"Cosine Similarity:\", cosine)"
   ]
  },
  {
   "cell_type": "markdown",
   "id": "38db7622",
   "metadata": {},
   "source": [
    "### Determine textual entailment for dissimilar sentences"
   ]
  },
  {
   "cell_type": "code",
   "execution_count": 35,
   "id": "36752537",
   "metadata": {},
   "outputs": [],
   "source": [
    "text_premise = \"A group of students is studying in the library.\"\n",
    "text_hypothesis = \"It is raining outside.\"\n",
    "\n",
    "sentences = [text_premise, text_hypothesis]\n",
    "\n",
    "response = get_embeddings(sentences,\"text-embedding-ada-002\")"
   ]
  },
  {
   "cell_type": "code",
   "execution_count": 36,
   "id": "a531e364",
   "metadata": {},
   "outputs": [
    {
     "data": {
      "text/plain": [
       "1536"
      ]
     },
     "execution_count": 36,
     "metadata": {},
     "output_type": "execute_result"
    }
   ],
   "source": [
    "len(response.data[0].embedding)"
   ]
  },
  {
   "cell_type": "code",
   "execution_count": 37,
   "id": "62fd3562",
   "metadata": {},
   "outputs": [
    {
     "data": {
      "text/plain": [
       "1536"
      ]
     },
     "execution_count": 37,
     "metadata": {},
     "output_type": "execute_result"
    }
   ],
   "source": [
    "len(response.data[1].embedding)"
   ]
  },
  {
   "cell_type": "code",
   "execution_count": 38,
   "id": "b631e075",
   "metadata": {},
   "outputs": [
    {
     "name": "stdout",
     "output_type": "stream",
     "text": [
      "Cosine Similarity: 0.7909503880133563\n"
     ]
    }
   ],
   "source": [
    "print(\"Cosine Similarity:\", compute_cosine_similarity(response.data[0].embedding, \n",
    "                                                      response.data[1].embedding))"
   ]
  }
 ],
 "metadata": {
  "kernelspec": {
   "display_name": "Python 3 (ipykernel)",
   "language": "python",
   "name": "python3"
  },
  "language_info": {
   "codemirror_mode": {
    "name": "ipython",
    "version": 3
   },
   "file_extension": ".py",
   "mimetype": "text/x-python",
   "name": "python",
   "nbconvert_exporter": "python",
   "pygments_lexer": "ipython3",
   "version": "3.8.9"
  }
 },
 "nbformat": 4,
 "nbformat_minor": 5
}
